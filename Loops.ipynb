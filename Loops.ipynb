{
 "cells": [
  {
   "cell_type": "markdown",
   "id": "b61bb2c6-5d19-4ed9-b377-a4ad563cedea",
   "metadata": {},
   "source": [
    "Loops\n",
    "for loop - range satisfy\n",
    "while loop - condition satisfy"
   ]
  },
  {
   "cell_type": "code",
   "execution_count": 6,
   "id": "eccfa825-ee63-42f0-8e17-c3a59d48ba7d",
   "metadata": {},
   "outputs": [
    {
     "name": "stdout",
     "output_type": "stream",
     "text": [
      "2\n",
      "5\n",
      "8\n"
     ]
    }
   ],
   "source": [
    "for a in range(2,10,3):\n",
    "    print(a)"
   ]
  },
  {
   "cell_type": "code",
   "execution_count": 9,
   "id": "03c77b6b-8f1a-499d-b0e8-b86ea234ea1a",
   "metadata": {},
   "outputs": [
    {
     "name": "stdout",
     "output_type": "stream",
     "text": [
      "0\n",
      "1\n",
      "2\n",
      "3\n"
     ]
    }
   ],
   "source": [
    "l=[1,22,33,44]\n",
    "for i in range(4):\n",
    "    print(i)"
   ]
  },
  {
   "cell_type": "code",
   "execution_count": 14,
   "id": "c326c281-0a54-48f1-baa8-9591aed78eb7",
   "metadata": {},
   "outputs": [
    {
     "name": "stdout",
     "output_type": "stream",
     "text": [
      "22\n"
     ]
    }
   ],
   "source": [
    "l=[1,22,33,44]\n",
    "for i in range(1):\n",
    "    print(l[1])"
   ]
  },
  {
   "cell_type": "code",
   "execution_count": 17,
   "id": "7b00d88e-f99e-420d-916a-ca8d3af14ccf",
   "metadata": {},
   "outputs": [
    {
     "name": "stdout",
     "output_type": "stream",
     "text": [
      "apple\n",
      "banana\n",
      "Cherry\n"
     ]
    }
   ],
   "source": [
    "fruits = [\"apple\",\"banana\",\"Cherry\"]\n",
    "for i in fruits:\n",
    "    print(i)"
   ]
  },
  {
   "cell_type": "markdown",
   "id": "628a791c-03a5-41a9-9132-3b49d327c141",
   "metadata": {},
   "source": [
    "pass - if there is no condition satisfy we will use pass command\n",
    "continue - skip\n",
    "break - condition satisfy"
   ]
  },
  {
   "cell_type": "code",
   "execution_count": 24,
   "id": "96318a13-c513-45f6-908a-3eb042e215ae",
   "metadata": {},
   "outputs": [
    {
     "name": "stdout",
     "output_type": "stream",
     "text": [
      "2\n",
      "4\n",
      "9\n"
     ]
    }
   ],
   "source": [
    "l=[2,4,9,10,11,12,13]\n",
    "for i in l:\n",
    "    if i==10:\n",
    "        break\n",
    "    print(i)\n",
    "    "
   ]
  },
  {
   "cell_type": "code",
   "execution_count": 28,
   "id": "ac54473a-9563-4e4d-8a1c-eef5b328ea35",
   "metadata": {},
   "outputs": [
    {
     "name": "stdout",
     "output_type": "stream",
     "text": [
      "9\n",
      "11\n",
      "13\n"
     ]
    }
   ],
   "source": [
    "l=[2,4,9,10,11,12,13]\n",
    "for i in l:\n",
    "    if i%2!=0:\n",
    "        print(i)"
   ]
  },
  {
   "cell_type": "code",
   "execution_count": 30,
   "id": "ef31cc23-a815-4194-aea9-5d5e902d4d13",
   "metadata": {},
   "outputs": [
    {
     "name": "stdout",
     "output_type": "stream",
     "text": [
      "2\n",
      "4\n",
      "10\n",
      "12\n"
     ]
    }
   ],
   "source": [
    "l=[2,4,9,10,11,12,13]\n",
    "for i in l:\n",
    "    if i%2==0:\n",
    "        print(i)"
   ]
  },
  {
   "cell_type": "code",
   "execution_count": 33,
   "id": "273d61f4-57b9-4260-b7a3-37a1fc2d047a",
   "metadata": {},
   "outputs": [
    {
     "name": "stdout",
     "output_type": "stream",
     "text": [
      "9\n",
      "11\n",
      "13\n"
     ]
    }
   ],
   "source": [
    "l=[2,4,9,10,11,12,13]\n",
    "for i in l:\n",
    "    if i%2 ==1:\n",
    "        print(i)"
   ]
  },
  {
   "cell_type": "code",
   "execution_count": 36,
   "id": "3d8654dd-0d6d-460e-a787-82a21ff7b7ff",
   "metadata": {},
   "outputs": [
    {
     "name": "stdout",
     "output_type": "stream",
     "text": [
      "[9, 11, 13]\n",
      "[2, 4, 10, 12]\n"
     ]
    }
   ],
   "source": [
    "l=[2,4,9,10,11,12,13]\n",
    "o=[]\n",
    "e=[]\n",
    "for i in l:\n",
    "    if i%2==0:\n",
    "        e.append(i)\n",
    "    else:\n",
    "        o.append(i)\n",
    "print(o)\n",
    "print(e)"
   ]
  },
  {
   "cell_type": "code",
   "execution_count": 38,
   "id": "a23f5d98-746d-4cc5-ba8e-aceba48a7df0",
   "metadata": {},
   "outputs": [
    {
     "name": "stdout",
     "output_type": "stream",
     "text": [
      "[9, 11, 13]\n",
      "[2, 4, 10, 12]\n"
     ]
    }
   ],
   "source": [
    "l=[2,4,9,10,11,12,13]\n",
    "o=[]\n",
    "e=[]\n",
    "for i in l:\n",
    "    if i%2==0:\n",
    "        e.append(i)\n",
    "    else:\n",
    "        o.append(i)\n",
    "print(o)\n",
    "print(e)"
   ]
  },
  {
   "cell_type": "code",
   "execution_count": 44,
   "id": "f7ea4c29-a207-4294-9ce1-635aed7091e4",
   "metadata": {},
   "outputs": [
    {
     "name": "stdout",
     "output_type": "stream",
     "text": [
      "7\n"
     ]
    }
   ],
   "source": [
    "l=[2,4,9,10,11,12,13]\n",
    "a=0\n",
    "for i in l:\n",
    "    a+=1\n",
    "print(a)"
   ]
  },
  {
   "cell_type": "code",
   "execution_count": null,
   "id": "880641b6-d051-418c-b696-554ea1e3240b",
   "metadata": {},
   "outputs": [],
   "source": []
  }
 ],
 "metadata": {
  "kernelspec": {
   "display_name": "Python [conda env:base] *",
   "language": "python",
   "name": "conda-base-py"
  },
  "language_info": {
   "codemirror_mode": {
    "name": "ipython",
    "version": 3
   },
   "file_extension": ".py",
   "mimetype": "text/x-python",
   "name": "python",
   "nbconvert_exporter": "python",
   "pygments_lexer": "ipython3",
   "version": "3.12.7"
  }
 },
 "nbformat": 4,
 "nbformat_minor": 5
}
