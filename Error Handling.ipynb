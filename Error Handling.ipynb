{
 "cells": [
  {
   "cell_type": "markdown",
   "id": "447988c1-f2f3-4c5d-a282-921fe600c70e",
   "metadata": {},
   "source": [
    "Try and except"
   ]
  },
  {
   "cell_type": "code",
   "execution_count": 6,
   "id": "a38f485d-9781-4ed2-b60b-7c83e1abe6a2",
   "metadata": {},
   "outputs": [
    {
     "name": "stdout",
     "output_type": "stream",
     "text": [
      "error\n"
     ]
    }
   ],
   "source": [
    "try:\n",
    "    a=1\n",
    "    b=0\n",
    "    print(a/c)\n",
    "except:\n",
    "    print(\"error\")"
   ]
  },
  {
   "cell_type": "code",
   "execution_count": 7,
   "id": "45cb4a09-557a-4ef3-925c-6079c5490e93",
   "metadata": {},
   "outputs": [
    {
     "name": "stdout",
     "output_type": "stream",
     "text": [
      "Zero Division Error\n"
     ]
    }
   ],
   "source": [
    "try:\n",
    "    a=10\n",
    "    b=0\n",
    "    print(a/b)\n",
    "except NameError:\n",
    "    print(\"name error\")\n",
    "except ZeroDivisionError:\n",
    "    print(\"Zero Division Error\")"
   ]
  },
  {
   "cell_type": "code",
   "execution_count": 12,
   "id": "7df366a6-6f13-4157-ac3a-fd38a638fb1d",
   "metadata": {},
   "outputs": [
    {
     "name": "stdout",
     "output_type": "stream",
     "text": [
      "0\n",
      "final\n"
     ]
    }
   ],
   "source": [
    "try:\n",
    "    a=10\n",
    "    print(b)\n",
    "except NameError:\n",
    "    print(\"name error\")\n",
    "except ZeroDivisionError:\n",
    "    print(\"Zero Division Error\")\n",
    "finally:\n",
    "    print(\"final\")"
   ]
  },
  {
   "cell_type": "code",
   "execution_count": 16,
   "id": "6d474ecb-c2c5-4f96-bba3-b6c8478ecaa7",
   "metadata": {},
   "outputs": [
    {
     "name": "stdout",
     "output_type": "stream",
     "text": [
      "name 'c' is not defined\n"
     ]
    }
   ],
   "source": [
    "try:\n",
    "    a=10\n",
    "    b=0\n",
    "    print(a/c)\n",
    "except Exception as a:\n",
    "    print(a)"
   ]
  },
  {
   "cell_type": "markdown",
   "id": "898c00cf-f285-479f-9938-b8ac187eed6f",
   "metadata": {},
   "source": [
    "Types of Error:\n"
   ]
  },
  {
   "cell_type": "markdown",
   "id": "a16cde34-c543-41ed-86d7-5750508820cd",
   "metadata": {},
   "source": [
    "File Handling"
   ]
  },
  {
   "cell_type": "markdown",
   "id": "cdca1f7c-e667-48b3-a051-868939f28b6b",
   "metadata": {},
   "source": [
    "r - read\n",
    "a - append \n",
    "w - write\n",
    "x - create"
   ]
  },
  {
   "cell_type": "code",
   "execution_count": 26,
   "id": "9bcdc828-7063-42b5-b362-52607f41b525",
   "metadata": {},
   "outputs": [
    {
     "data": {
      "text/plain": [
       "'Welcome to the Devil world'"
      ]
     },
     "execution_count": 26,
     "metadata": {},
     "output_type": "execute_result"
    }
   ],
   "source": [
    "f = open('test.txt','r')\n",
    "f.read()"
   ]
  },
  {
   "cell_type": "code",
   "execution_count": 30,
   "id": "ce261100-307c-4168-bad0-d45571283822",
   "metadata": {},
   "outputs": [],
   "source": [
    "f = open('test.txt','a')\n",
    "f.write(\"only Devil's are allowed\")\n",
    "f.close()"
   ]
  },
  {
   "cell_type": "code",
   "execution_count": 31,
   "id": "24407069-7457-4021-9884-b911b68e9c24",
   "metadata": {},
   "outputs": [
    {
     "data": {
      "text/plain": [
       "\"Welcome to the Devil worldonly Devil's are allowedonly Devil's are allowedonly Devil's are allowed\""
      ]
     },
     "execution_count": 31,
     "metadata": {},
     "output_type": "execute_result"
    }
   ],
   "source": [
    "f = open('test.txt','r')\n",
    "f.read()"
   ]
  }
 ],
 "metadata": {
  "kernelspec": {
   "display_name": "Python [conda env:base] *",
   "language": "python",
   "name": "conda-base-py"
  },
  "language_info": {
   "codemirror_mode": {
    "name": "ipython",
    "version": 3
   },
   "file_extension": ".py",
   "mimetype": "text/x-python",
   "name": "python",
   "nbconvert_exporter": "python",
   "pygments_lexer": "ipython3",
   "version": "3.12.7"
  }
 },
 "nbformat": 4,
 "nbformat_minor": 5
}
