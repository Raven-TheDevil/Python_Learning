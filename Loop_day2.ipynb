{
 "cells": [
  {
   "cell_type": "code",
   "execution_count": null,
   "id": "c8b9f6af-c34c-4e27-93de-639550924238",
   "metadata": {},
   "outputs": [],
   "source": [
    "'''add the list without adding'''\n",
    "\n",
    "l=[2,4,9,10,11,12,13]\n",
    "a=0\n",
    "for i in l:\n",
    "    a+=i\n",
    "print(a)"
   ]
  },
  {
   "cell_type": "code",
   "execution_count": null,
   "id": "47841f33-da7d-491d-aab8-8808786075f7",
   "metadata": {},
   "outputs": [],
   "source": [
    "l=[2,4,9,10,11,12,13]\n",
    "for i in l:\n",
    "    if i==10:\n",
    "        continue\n",
    "    print(i)"
   ]
  },
  {
   "cell_type": "markdown",
   "id": "5e852671-d0bc-4335-ae79-433723835536",
   "metadata": {},
   "source": [
    "While Loop"
   ]
  },
  {
   "cell_type": "code",
   "execution_count": 3,
   "id": "19c39055-d096-4222-8b2a-8d4359c06179",
   "metadata": {},
   "outputs": [
    {
     "name": "stdout",
     "output_type": "stream",
     "text": [
      "10\n",
      "13\n",
      "16\n",
      "19\n",
      "22\n",
      "25\n",
      "28\n"
     ]
    }
   ],
   "source": [
    "i=10\n",
    "while i<=30:\n",
    "    print(i)\n",
    "    i+=3"
   ]
  },
  {
   "cell_type": "code",
   "execution_count": 24,
   "id": "1cf23bbb-e68a-40e8-8b91-75bf828fc1e6",
   "metadata": {},
   "outputs": [
    {
     "name": "stdout",
     "output_type": "stream",
     "text": [
      "k 1\n",
      "K1 2\n",
      "K2 4\n"
     ]
    }
   ],
   "source": [
    "l={\"k\":1,\"K1\":2,\"K2\":4}\n",
    "for i,j in l.items():\n",
    "    #print(\"key\",i,\"Values\",j)\n",
    "    print (i,j)"
   ]
  },
  {
   "cell_type": "code",
   "execution_count": 14,
   "id": "137940b4-bfc9-4480-84bd-ea7a05f56905",
   "metadata": {},
   "outputs": [
    {
     "name": "stdout",
     "output_type": "stream",
     "text": [
      "0 1\n",
      "1 23\n",
      "2 45\n",
      "3 6\n",
      "4 889\n",
      "5 90\n"
     ]
    }
   ],
   "source": [
    "#enumerate\n",
    "k=[1,23,45,6,889,90]\n",
    "for i,j in enumerate(k):\n",
    "    print(i,j)"
   ]
  },
  {
   "cell_type": "code",
   "execution_count": 17,
   "id": "c2308e5a-d137-4921-abee-1c841af77cc8",
   "metadata": {},
   "outputs": [
    {
     "name": "stdout",
     "output_type": "stream",
     "text": [
      "0\n",
      "1\n",
      "2\n",
      "3\n",
      "4\n",
      "5\n"
     ]
    }
   ],
   "source": [
    "k=[1,23,45,6,889,90]\n",
    "for i in range(len(k)):\n",
    "    print(i)"
   ]
  },
  {
   "cell_type": "code",
   "execution_count": 20,
   "id": "704bc94b-3806-43a9-a9dd-0d2d9314c1fc",
   "metadata": {},
   "outputs": [
    {
     "name": "stdout",
     "output_type": "stream",
     "text": [
      "45\n"
     ]
    }
   ],
   "source": [
    "k=[1,23,45,6,889,90]\n",
    "for i,j in enumerate(k):\n",
    "    if i==2:\n",
    "        print(j)"
   ]
  },
  {
   "cell_type": "code",
   "execution_count": 27,
   "id": "2740c25a-fc86-450d-879d-06cbc5b23778",
   "metadata": {},
   "outputs": [
    {
     "name": "stdout",
     "output_type": "stream",
     "text": [
      "True\n"
     ]
    }
   ],
   "source": [
    "print(\"abcd\">\"ab\")"
   ]
  },
  {
   "cell_type": "code",
   "execution_count": 28,
   "id": "f831ef8e-7c34-44e0-907f-280c6738902c",
   "metadata": {},
   "outputs": [
    {
     "name": "stdout",
     "output_type": "stream",
     "text": [
      "False\n"
     ]
    }
   ],
   "source": [
    "print(\"1,2,3,4,5\">\"ab\")"
   ]
  }
 ],
 "metadata": {
  "kernelspec": {
   "display_name": "Python [conda env:base] *",
   "language": "python",
   "name": "conda-base-py"
  },
  "language_info": {
   "codemirror_mode": {
    "name": "ipython",
    "version": 3
   },
   "file_extension": ".py",
   "mimetype": "text/x-python",
   "name": "python",
   "nbconvert_exporter": "python",
   "pygments_lexer": "ipython3",
   "version": "3.12.7"
  }
 },
 "nbformat": 4,
 "nbformat_minor": 5
}
