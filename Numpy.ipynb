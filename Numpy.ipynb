{
 "cells": [
  {
   "cell_type": "markdown",
   "id": "90c88b26-c027-42d5-8912-66c44d179882",
   "metadata": {},
   "source": [
    "''' NUMPY - Numerical Python\n",
    "NumPy is a Python Library\n",
    "NumPy is used for working with arrays. '''"
   ]
  },
  {
   "cell_type": "code",
   "execution_count": 2,
   "id": "758340de-cfb4-4a1b-92bf-d47d95a1eb2e",
   "metadata": {},
   "outputs": [],
   "source": [
    "#plp install NumPy"
   ]
  },
  {
   "cell_type": "code",
   "execution_count": 3,
   "id": "853fd17d-1952-4d98-9f87-a0b30582982a",
   "metadata": {},
   "outputs": [],
   "source": [
    "#PYPL website name\""
   ]
  },
  {
   "cell_type": "code",
   "execution_count": 5,
   "id": "5647d70b-fdaa-4292-81c6-b1f010567957",
   "metadata": {},
   "outputs": [],
   "source": [
    "import numpy"
   ]
  },
  {
   "cell_type": "code",
   "execution_count": 11,
   "id": "6ee1b660-ff5e-4d14-a870-bb61ea329781",
   "metadata": {},
   "outputs": [
    {
     "name": "stdout",
     "output_type": "stream",
     "text": [
      "1\n"
     ]
    }
   ],
   "source": [
    "a = numpy.array(1)\n",
    "print(a)"
   ]
  },
  {
   "cell_type": "code",
   "execution_count": 12,
   "id": "51e26759-a1d7-48f7-8282-f3700b350e26",
   "metadata": {},
   "outputs": [
    {
     "name": "stdout",
     "output_type": "stream",
     "text": [
      "<class 'numpy.ndarray'>\n"
     ]
    }
   ],
   "source": [
    "print(type(a))"
   ]
  },
  {
   "cell_type": "code",
   "execution_count": 14,
   "id": "0b70f519-35ea-4bb6-9c78-500cb5b8a957",
   "metadata": {},
   "outputs": [
    {
     "name": "stdout",
     "output_type": "stream",
     "text": [
      "1.26.4\n"
     ]
    }
   ],
   "source": [
    "import numpy as np\n",
    "print(np.__version__)"
   ]
  },
  {
   "cell_type": "code",
   "execution_count": 15,
   "id": "1e7d66f3-74f5-45cf-9f30-42311d6df67e",
   "metadata": {},
   "outputs": [],
   "source": [
    "#pipshow numpy"
   ]
  },
  {
   "cell_type": "markdown",
   "id": "dd88e22c-02be-439e-8474-b51f17b94763",
   "metadata": {},
   "source": [
    "#Dimension Array\n",
    "\n",
    "0 - dimension array\n",
    "1 - dimension array\n",
    "2 - dimension array\n",
    "3 - dimension array\n",
    "\n",
    " "
   ]
  },
  {
   "cell_type": "code",
   "execution_count": 18,
   "id": "cec16bba-187c-4495-9d68-3ee9bb0ba3b5",
   "metadata": {},
   "outputs": [
    {
     "name": "stdout",
     "output_type": "stream",
     "text": [
      "0\n"
     ]
    }
   ],
   "source": [
    "#0 dimension array\n",
    "\n",
    "import numpy as np\n",
    "a=np.array(0)\n",
    "print(a.ndim)"
   ]
  },
  {
   "cell_type": "code",
   "execution_count": 29,
   "id": "5f20616b-ca01-40f3-995b-5072d7cd0daf",
   "metadata": {},
   "outputs": [
    {
     "name": "stdout",
     "output_type": "stream",
     "text": [
      "1\n"
     ]
    }
   ],
   "source": [
    "#1 dimension array\n",
    "\n",
    "import numpy as np\n",
    "n=np.array([1,2,3])\n",
    "print(n.ndim)"
   ]
  },
  {
   "cell_type": "code",
   "execution_count": 24,
   "id": "957138c5-3b93-458e-9e92-9cdc7db9004c",
   "metadata": {},
   "outputs": [
    {
     "name": "stdout",
     "output_type": "stream",
     "text": [
      "2\n"
     ]
    }
   ],
   "source": [
    "#2 dimension array\n",
    "import numpy as np\n",
    "a=np.array([[1,2,3],[1,2,3]])\n",
    "print(a.ndim)"
   ]
  },
  {
   "cell_type": "code",
   "execution_count": 26,
   "id": "7e606b19-eb6f-4c7f-9b94-f44df3035c42",
   "metadata": {},
   "outputs": [
    {
     "name": "stdout",
     "output_type": "stream",
     "text": [
      "2\n"
     ]
    }
   ],
   "source": [
    "#2 dimension array\n",
    "import numpy as np\n",
    "a=np.array([[1,2,3],[1,2,3],[1,2,3]])\n",
    "print(a.ndim)"
   ]
  },
  {
   "cell_type": "code",
   "execution_count": 28,
   "id": "f50a57d0-2139-400f-92ff-cc64a1dfe3bb",
   "metadata": {},
   "outputs": [
    {
     "name": "stdout",
     "output_type": "stream",
     "text": [
      "3\n"
     ]
    }
   ],
   "source": [
    "#3 dimension array\n",
    "import numpy as np\n",
    "a=np.array([[[1,2,3],[1,2,3]],[[1,2,3],[1,2,3]]])\n",
    "print(a.ndim)"
   ]
  },
  {
   "cell_type": "code",
   "execution_count": 34,
   "id": "26dbc32f-3e69-40fc-90a2-65a504dcfd98",
   "metadata": {},
   "outputs": [
    {
     "data": {
      "text/plain": [
       "9"
      ]
     },
     "execution_count": 34,
     "metadata": {},
     "output_type": "execute_result"
    }
   ],
   "source": [
    "l=[[1,3],[5,9,89],[3,4,5]]\n",
    "l[1][1]"
   ]
  },
  {
   "cell_type": "code",
   "execution_count": 4,
   "id": "ed0bc12e-d52d-4d92-8690-48378909e07b",
   "metadata": {},
   "outputs": [
    {
     "data": {
      "text/plain": [
       "array([6, 7])"
      ]
     },
     "execution_count": 4,
     "metadata": {},
     "output_type": "execute_result"
    }
   ],
   "source": [
    "import numpy as np \n",
    "a=np.array([[1,2,3,4],[5,6,7,8]])\n",
    "a[1,1:3]"
   ]
  },
  {
   "cell_type": "code",
   "execution_count": 8,
   "id": "4674d027-b3be-44ce-8a58-ecd6e90889ae",
   "metadata": {},
   "outputs": [
    {
     "data": {
      "text/plain": [
       "array([6, 7, 8])"
      ]
     },
     "execution_count": 8,
     "metadata": {},
     "output_type": "execute_result"
    }
   ],
   "source": [
    "import numpy as np \n",
    "a=np.array([[1,2,3,4],[5,6,7,8]])\n",
    "a[1,1:4]"
   ]
  },
  {
   "cell_type": "code",
   "execution_count": 9,
   "id": "285570e9-a1b4-4f94-a7d5-1abc53a285eb",
   "metadata": {},
   "outputs": [],
   "source": [
    "#datatypes\n",
    "\n",
    "#i - integer\n",
    "#b  - boolean\n",
    "#u - unsigned integer\n",
    "#f - float\n",
    "#c - complex float\n",
    "#s - String"
   ]
  },
  {
   "cell_type": "code",
   "execution_count": 10,
   "id": "8840d378-99b6-409e-a2bc-fe461af4d628",
   "metadata": {},
   "outputs": [],
   "source": [
    "#dtype\n",
    "#astype"
   ]
  },
  {
   "cell_type": "code",
   "execution_count": 12,
   "id": "8b44741a-4001-48e8-9924-35270e682828",
   "metadata": {},
   "outputs": [],
   "source": [
    "#copy and View\n",
    "# copy: duplicate the copy and the value is affected only in duplicate one\n",
    "#view: duplicate the copy and the value is affected both duplicate and source one"
   ]
  },
  {
   "cell_type": "code",
   "execution_count": 29,
   "id": "cc204a95-e22b-4705-b9b5-f780f455dce5",
   "metadata": {},
   "outputs": [
    {
     "name": "stdout",
     "output_type": "stream",
     "text": [
      "[7, 8, 9]\n"
     ]
    }
   ],
   "source": [
    "l1=[1,2,3]\n",
    "l2=[4,5,6]\n",
    "l=[]\n",
    "for i in l1:\n",
    "    for j in l2:\n",
    "        l3=i+j\n",
    "    l.append(l3)   \n",
    "print(l)"
   ]
  },
  {
   "cell_type": "code",
   "execution_count": 34,
   "id": "ccb17f01-6b88-493d-85ca-dc823b06f21b",
   "metadata": {},
   "outputs": [
    {
     "name": "stdout",
     "output_type": "stream",
     "text": [
      "1 4\n",
      "2 5\n",
      "3 6\n"
     ]
    },
    {
     "data": {
      "text/plain": [
       "[5, 7, 9]"
      ]
     },
     "execution_count": 34,
     "metadata": {},
     "output_type": "execute_result"
    }
   ],
   "source": [
    "l1=[1,2,3]\n",
    "l2=[4,5,6]\n",
    "l=[]\n",
    "for i in range(len(l1)):\n",
    "    print(l1[i],l2[i])\n",
    "    l.append(l1[i]+l2[i])\n",
    "l"
   ]
  },
  {
   "cell_type": "code",
   "execution_count": 42,
   "id": "6b306d5e-d635-44c9-87ed-3807e6157054",
   "metadata": {},
   "outputs": [
    {
     "name": "stdout",
     "output_type": "stream",
     "text": [
      "addition [[4 8 7]\n",
      " [5 8 8]]\n",
      "sub [[-2 -4 -1]\n",
      " [ 3  4 -2]]\n",
      "divide [[0.33333333 0.33333333 0.75      ]\n",
      " [4.         3.         0.6       ]]\n",
      "multiplication [[ 3 12 12]\n",
      " [ 4 12 15]]\n",
      "modulus [[1 2 3]\n",
      " [0 0 3]]\n",
      "floor division [[0 0 0]\n",
      " [4 3 0]]\n"
     ]
    }
   ],
   "source": [
    "import numpy as np\n",
    "\n",
    "a=np.array([[1,2,3],[4,6,3]])\n",
    "b=np.array([[3,6,4],[1,2,5]])\n",
    "addition = a+b\n",
    "subtraction = a-b\n",
    "division = a/b\n",
    "multiplication = a*b\n",
    "\n",
    "print(\"addition\",addition)\n",
    "print(\"sub\",subtraction)\n",
    "print(\"divide\",division)\n",
    "print(\"multiplication\",multiplication)\n",
    "print(\"modulus\",a%b)\n",
    "print(\"floor division\",a//b)"
   ]
  },
  {
   "cell_type": "markdown",
   "id": "1382e8ac-9449-469c-9f93-4ad87e4d7fd4",
   "metadata": {},
   "source": [
    "array reshape"
   ]
  },
  {
   "cell_type": "code",
   "execution_count": 2,
   "id": "9373a941-2654-4aa3-9105-43aca52fbe22",
   "metadata": {},
   "outputs": [
    {
     "name": "stdout",
     "output_type": "stream",
     "text": [
      "[[ 1  2  3]\n",
      " [ 4  5  6]\n",
      " [ 7  8  9]\n",
      " [10 11 12]]\n"
     ]
    }
   ],
   "source": [
    "import numpy as np\n",
    "x=np.array([1,2,3,4,5,6,7,8,9,10,11,12])\n",
    "reshape_array=x.reshape(4,3)\n",
    "print(reshape_array)\n"
   ]
  },
  {
   "cell_type": "code",
   "execution_count": 4,
   "id": "9f36dcf6-8d73-4278-8a49-065d3a2c1f79",
   "metadata": {},
   "outputs": [
    {
     "name": "stdout",
     "output_type": "stream",
     "text": [
      "[[ 1  3]\n",
      " [ 4  5]\n",
      " [ 6  7]\n",
      " [ 8 10]\n",
      " [11 13]]\n"
     ]
    }
   ],
   "source": [
    "import numpy as np\n",
    "x=np.array([1,3,4,5,6,7,8,10,11,13])\n",
    "reshape_array=x.reshape(5,2)\n",
    "print(reshape_array)"
   ]
  },
  {
   "cell_type": "code",
   "execution_count": 5,
   "id": "3cf4e3dd-1fdc-4ab1-b8f2-efef5ebac9ff",
   "metadata": {},
   "outputs": [
    {
     "name": "stdout",
     "output_type": "stream",
     "text": [
      "[[ 1  3  4  5  6]\n",
      " [ 7  8 10 11 13]]\n"
     ]
    }
   ],
   "source": [
    "import numpy as np\n",
    "x=np.array([1,3,4,5,6,7,8,10,11,13])\n",
    "reshape_array=x.reshape(2,5)\n",
    "print(reshape_array)"
   ]
  },
  {
   "cell_type": "code",
   "execution_count": 10,
   "id": "f10b2e4d-ae3e-4cb0-b728-68028a075d5a",
   "metadata": {},
   "outputs": [
    {
     "name": "stdout",
     "output_type": "stream",
     "text": [
      "[[[ 1  2]\n",
      "  [ 3  4]]\n",
      "\n",
      " [[ 5  6]\n",
      "  [ 7  8]]\n",
      "\n",
      " [[ 9 10]\n",
      "  [11 12]]]\n"
     ]
    }
   ],
   "source": [
    "import numpy as np\n",
    "x=np.array([1,2,3,4,5,6,7,8,9,10,11,12])\n",
    "reshape_array=x.reshape(3,2,2)\n",
    "print(reshape_array)\n"
   ]
  },
  {
   "cell_type": "code",
   "execution_count": 12,
   "id": "88bcc562-95a7-49c2-83bf-c17003f62673",
   "metadata": {},
   "outputs": [
    {
     "name": "stdout",
     "output_type": "stream",
     "text": [
      "[[[ 1]\n",
      "  [ 2]\n",
      "  [ 3]\n",
      "  [ 4]\n",
      "  [ 5]\n",
      "  [ 6]]\n",
      "\n",
      " [[ 7]\n",
      "  [ 8]\n",
      "  [ 9]\n",
      "  [10]\n",
      "  [11]\n",
      "  [12]]]\n"
     ]
    }
   ],
   "source": [
    "import numpy as np\n",
    "x=np.array([1,2,3,4,5,6,7,8,9,10,11,12])\n",
    "reshape_array=x.reshape(2,6,1)\n",
    "print(reshape_array)"
   ]
  },
  {
   "cell_type": "code",
   "execution_count": 14,
   "id": "605f68f7-a6a8-4724-b7c0-289d3f4f5c09",
   "metadata": {},
   "outputs": [],
   "source": [
    "#using loops\n",
    "#nditer\n",
    "#enumerate\n",
    "#concatenate\n",
    "#split\n"
   ]
  },
  {
   "cell_type": "code",
   "execution_count": null,
   "id": "272bfb28-631c-4fd2-b01a-068c37a61b64",
   "metadata": {},
   "outputs": [],
   "source": []
  }
 ],
 "metadata": {
  "kernelspec": {
   "display_name": "Python [conda env:base] *",
   "language": "python",
   "name": "conda-base-py"
  },
  "language_info": {
   "codemirror_mode": {
    "name": "ipython",
    "version": 3
   },
   "file_extension": ".py",
   "mimetype": "text/x-python",
   "name": "python",
   "nbconvert_exporter": "python",
   "pygments_lexer": "ipython3",
   "version": "3.12.7"
  }
 },
 "nbformat": 4,
 "nbformat_minor": 5
}
