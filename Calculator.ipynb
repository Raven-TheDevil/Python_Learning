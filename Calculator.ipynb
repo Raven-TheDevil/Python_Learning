{
 "cells": [
  {
   "cell_type": "markdown",
   "id": "6138a5a8-c489-4dd3-9366-490bb3b53fce",
   "metadata": {},
   "source": [
    "Calculator"
   ]
  },
  {
   "cell_type": "code",
   "execution_count": 4,
   "id": "ad55fa32-bc1d-4028-a14f-33354fad6409",
   "metadata": {},
   "outputs": [
    {
     "name": "stdin",
     "output_type": "stream",
     "text": [
      "enter the number 12\n",
      "enter the symbol +,-,*,/ +\n",
      "enter the number \n"
     ]
    },
    {
     "ename": "ValueError",
     "evalue": "invalid literal for int() with base 10: ''",
     "output_type": "error",
     "traceback": [
      "\u001b[1;31m---------------------------------------------------------------------------\u001b[0m",
      "\u001b[1;31mValueError\u001b[0m                                Traceback (most recent call last)",
      "Cell \u001b[1;32mIn[4], line 16\u001b[0m\n\u001b[0;32m     14\u001b[0m num1\u001b[38;5;241m=\u001b[39m\u001b[38;5;28mint\u001b[39m(\u001b[38;5;28minput\u001b[39m(\u001b[38;5;124m\"\u001b[39m\u001b[38;5;124menter the number\u001b[39m\u001b[38;5;124m\"\u001b[39m))\n\u001b[0;32m     15\u001b[0m op\u001b[38;5;241m=\u001b[39m\u001b[38;5;28minput\u001b[39m(\u001b[38;5;124m\"\u001b[39m\u001b[38;5;124menter the symbol +,-,*,/\u001b[39m\u001b[38;5;124m\"\u001b[39m)\n\u001b[1;32m---> 16\u001b[0m num2\u001b[38;5;241m=\u001b[39m\u001b[38;5;28mint\u001b[39m(\u001b[38;5;28minput\u001b[39m(\u001b[38;5;124m\"\u001b[39m\u001b[38;5;124menter the number\u001b[39m\u001b[38;5;124m\"\u001b[39m))\n\u001b[0;32m     18\u001b[0m \u001b[38;5;28;01mif\u001b[39;00m op\u001b[38;5;241m==\u001b[39m\u001b[38;5;124m'\u001b[39m\u001b[38;5;124m+\u001b[39m\u001b[38;5;124m'\u001b[39m:\n\u001b[0;32m     19\u001b[0m     \u001b[38;5;28mprint\u001b[39m(add(num1,num2))\n",
      "\u001b[1;31mValueError\u001b[0m: invalid literal for int() with base 10: ''"
     ]
    }
   ],
   "source": [
    "def add(a,b):\n",
    "    c=a+b\n",
    "    return c\n",
    "def sub(a,b):\n",
    "    c=a-b\n",
    "    return c\n",
    "def multi(a,b):\n",
    "    c=a*b\n",
    "    return c\n",
    "def divi(a,b):\n",
    "    c=a/b\n",
    "    return c\n",
    "\n",
    "num1=int(input(\"enter the number\"))\n",
    "op=input(\"enter the symbol +,-,*,/\")\n",
    "num2=int(input(\"enter the number\"))\n",
    "\n",
    "if op=='+':\n",
    "    print(add(num1,op,num2))\n",
    "elif op=='-':\n",
    "    print(sub(num1,op,num2))\n",
    "elif op=='*':\n",
    "    print(multi(num1,op,num2))\n",
    "elif op=='/':\n",
    "    print(divi(num1,op,num2))"
   ]
  },
  {
   "cell_type": "code",
   "execution_count": 2,
   "id": "e04456c4-d2e9-4488-a6e4-05013790ec64",
   "metadata": {},
   "outputs": [
    {
     "name": "stdin",
     "output_type": "stream",
     "text": [
      "enter the number 78\n",
      "enter the symbol +,-,*,/ +\n",
      "enter the number 78\n"
     ]
    },
    {
     "name": "stdout",
     "output_type": "stream",
     "text": [
      "156\n"
     ]
    }
   ],
   "source": [
    "def add(a,b):\n",
    "    c=a+b\n",
    "    return c\n",
    "def sub(a,b):\n",
    "    c=a-b\n",
    "    return c\n",
    "def multi(a,b):\n",
    "    c=a*b\n",
    "    return c\n",
    "def divi(a,b):\n",
    "    c=a/b\n",
    "    return c\n",
    "\n",
    "num1=int(input(\"enter the number\"))\n",
    "op=input(\"enter the symbol +,-,*,/\")\n",
    "num2=int(input(\"enter the number\"))\n",
    "\n",
    "if op=='+':\n",
    "    print(add(num1,num2))\n",
    "elif op=='-':\n",
    "    print(sub(num1,num2))\n",
    "elif op=='*':\n",
    "    print(multi(num1,num2))\n",
    "elif op=='/':\n",
    "    print(divi(num1,num2))"
   ]
  },
  {
   "cell_type": "code",
   "execution_count": 10,
   "id": "eac0b6fb-eb8a-4619-9830-407df28c33db",
   "metadata": {},
   "outputs": [
    {
     "name": "stdin",
     "output_type": "stream",
     "text": [
      "Enter first number:  54\n",
      "Enter operator (+, -, *, /):  +\n",
      "Enter second number:  123\n"
     ]
    },
    {
     "name": "stdout",
     "output_type": "stream",
     "text": [
      "Result: 177.0\n"
     ]
    }
   ],
   "source": [
    "def calc(a, b, oper):\n",
    "    if oper == '+':\n",
    "        return a + b\n",
    "    elif oper == '-':\n",
    "        return a - b\n",
    "    elif oper == '*':\n",
    "        return a * b\n",
    "    elif oper == '/':\n",
    "        if b != 0:\n",
    "            return a / b\n",
    "        else:\n",
    "            return \"Error: Division by zero\"\n",
    "    else:\n",
    "        return \"Invalid operator\"\n",
    "\n",
    "num1 = float(input(\"Enter first number: \"))\n",
    "op = input(\"Enter operator (+, -, *, /): \")\n",
    "num2 = float(input(\"Enter second number: \"))\n",
    "\n",
    "result = calc(num1, num2, op)\n",
    "print(\"Result:\", result)"
   ]
  },
  {
   "cell_type": "code",
   "execution_count": 4,
   "id": "ca4f5170-8fa2-4e02-861f-edf0265e2e31",
   "metadata": {},
   "outputs": [
    {
     "name": "stdin",
     "output_type": "stream",
     "text": [
      "enter the first number:  10\n",
      "enter the operator(+,-,*,/):  /\n",
      "enter the first number:  2\n"
     ]
    },
    {
     "name": "stdout",
     "output_type": "stream",
     "text": [
      "5.0\n"
     ]
    }
   ],
   "source": [
    "value1=float(input(\"enter the first number: \"))\n",
    "op = input(\"enter the operator(+,-,*,/): \")\n",
    "value2= float(input(\"enter the first number: \"))\n",
    "\n",
    "def calc(a,b,oper):\n",
    "    if oper == '+':\n",
    "        return a+b\n",
    "    elif oper == '-':\n",
    "        return a-b\n",
    "    elif oper == '*':\n",
    "        return a*b\n",
    "    elif oper == '/':\n",
    "        if b!=0:\n",
    "            return a/b\n",
    "        else:\n",
    "            return\" Error: divison by zero\"\n",
    "    else:\n",
    "        return \"invalid Operator\"\n",
    "\n",
    "result= calc(value1,value2,op)\n",
    "print(result)"
   ]
  },
  {
   "cell_type": "code",
   "execution_count": null,
   "id": "4167e592-1afd-4664-9a1c-5f2ba8144788",
   "metadata": {},
   "outputs": [],
   "source": []
  }
 ],
 "metadata": {
  "kernelspec": {
   "display_name": "Python [conda env:base] *",
   "language": "python",
   "name": "conda-base-py"
  },
  "language_info": {
   "codemirror_mode": {
    "name": "ipython",
    "version": 3
   },
   "file_extension": ".py",
   "mimetype": "text/x-python",
   "name": "python",
   "nbconvert_exporter": "python",
   "pygments_lexer": "ipython3",
   "version": "3.12.7"
  }
 },
 "nbformat": 4,
 "nbformat_minor": 5
}
