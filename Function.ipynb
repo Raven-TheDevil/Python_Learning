{
 "cells": [
  {
   "cell_type": "code",
   "execution_count": 4,
   "id": "bee65538-3b6a-4262-9aff-f958afed98d8",
   "metadata": {},
   "outputs": [
    {
     "name": "stdout",
     "output_type": "stream",
     "text": [
      "h\n",
      "e\n",
      "l\n",
      "l\n",
      "o\n",
      " \n",
      "w\n",
      "o\n",
      "r\n",
      "l\n",
      "d\n"
     ]
    }
   ],
   "source": [
    "k=\"hello world\"\n",
    "for i in k:\n",
    "    print(i)"
   ]
  },
  {
   "cell_type": "code",
   "execution_count": 12,
   "id": "81a463ca-b8dd-4069-8e41-1d9e86d5d651",
   "metadata": {},
   "outputs": [
    {
     "name": "stdout",
     "output_type": "stream",
     "text": [
      "{'h': 1, 'e': 1, 'l': 3, 'o': 2, ' ': 1, 'w': 1, 'r': 1, 'd': 1}\n"
     ]
    }
   ],
   "source": [
    "k=\"hello world\"\n",
    "d={}\n",
    "for i in k:\n",
    "    if i not in d:\n",
    "        d[i]=1\n",
    "    else:\n",
    "        d[i]+=1\n",
    "print(d)"
   ]
  },
  {
   "cell_type": "code",
   "execution_count": 4,
   "id": "b222cb25-6da7-4fb1-9147-98f26c6f26bd",
   "metadata": {},
   "outputs": [
    {
     "name": "stdout",
     "output_type": "stream",
     "text": [
      "55\n",
      "2\n"
     ]
    }
   ],
   "source": [
    "k=[2,4,55,6,19,20]\n",
    "maxi=k[0]\n",
    "mini=k[0]\n",
    "for i in k:\n",
    "    if i > maxi:\n",
    "        maxi=i\n",
    "    if i < mini:\n",
    "        mini=i\n",
    "print(maxi)\n",
    "print(mini)"
   ]
  },
  {
   "cell_type": "markdown",
   "id": "4ab48f73-83fd-4356-b836-28e02cc77c62",
   "metadata": {},
   "source": [
    "Function"
   ]
  },
  {
   "cell_type": "code",
   "execution_count": 24,
   "id": "0bd12a1d-77a1-40ee-9904-2b8e39cf2958",
   "metadata": {},
   "outputs": [
    {
     "name": "stdout",
     "output_type": "stream",
     "text": [
      "Hi,how are you\n"
     ]
    }
   ],
   "source": [
    "def function1():\n",
    "    print(\"Hi,how are you\")\n",
    "function1()"
   ]
  },
  {
   "cell_type": "code",
   "execution_count": 26,
   "id": "7dbd4c7a-8c55-4758-8a92-4b74d3579ada",
   "metadata": {},
   "outputs": [
    {
     "name": "stdout",
     "output_type": "stream",
     "text": [
      "7\n",
      "3\n"
     ]
    }
   ],
   "source": [
    "def add():\n",
    "    a=5\n",
    "    b=2\n",
    "    print(a+b)\n",
    "\n",
    "def sub():\n",
    "    a=5\n",
    "    b=2\n",
    "    print(a-b)\n",
    "\n",
    "add()\n",
    "sub()"
   ]
  },
  {
   "cell_type": "code",
   "execution_count": 34,
   "id": "f9be71f9-0457-451f-b754-aaa982f3a34a",
   "metadata": {},
   "outputs": [
    {
     "name": "stdout",
     "output_type": "stream",
     "text": [
      "7\n",
      "3\n"
     ]
    }
   ],
   "source": [
    "def add():\n",
    "    a=5\n",
    "    b=2\n",
    "    c=a+b\n",
    "    print(c)\n",
    "\n",
    "def sub():\n",
    "    a=5\n",
    "    b=2\n",
    "    print(a-b)\n",
    "\n",
    "add()\n",
    "sub()"
   ]
  },
  {
   "cell_type": "code",
   "execution_count": 35,
   "id": "fd9fdb20-0845-4003-b443-15087a5c924f",
   "metadata": {},
   "outputs": [
    {
     "name": "stdout",
     "output_type": "stream",
     "text": [
      "22\n",
      "-8\n"
     ]
    }
   ],
   "source": [
    "a=7\n",
    "b=15\n",
    "\n",
    "def add():\n",
    "    print(a+b)\n",
    "    \n",
    "\n",
    "def sub():\n",
    "    print(a-b)\n",
    "\n",
    "add()\n",
    "sub()"
   ]
  },
  {
   "cell_type": "code",
   "execution_count": 39,
   "id": "535fd93f-75fa-4dc5-94c1-3ba418892c74",
   "metadata": {},
   "outputs": [
    {
     "name": "stdout",
     "output_type": "stream",
     "text": [
      "15\n",
      "-1\n"
     ]
    }
   ],
   "source": [
    "a=7\n",
    "b=8\n",
    "\n",
    "def add():\n",
    "    global c,d\n",
    "    c=a+b\n",
    "    d=a-b\n",
    "    print(c)\n",
    "\n",
    "def sub():\n",
    "    print(d)\n",
    "\n",
    "add()\n",
    "sub()"
   ]
  }
 ],
 "metadata": {
  "kernelspec": {
   "display_name": "Python [conda env:base] *",
   "language": "python",
   "name": "conda-base-py"
  },
  "language_info": {
   "codemirror_mode": {
    "name": "ipython",
    "version": 3
   },
   "file_extension": ".py",
   "mimetype": "text/x-python",
   "name": "python",
   "nbconvert_exporter": "python",
   "pygments_lexer": "ipython3",
   "version": "3.12.7"
  }
 },
 "nbformat": 4,
 "nbformat_minor": 5
}
