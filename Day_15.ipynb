{
 "cells": [
  {
   "cell_type": "code",
   "execution_count": 1,
   "id": "4bc0f487-8d99-4199-b032-dd65ae280046",
   "metadata": {},
   "outputs": [
    {
     "name": "stdout",
     "output_type": "stream",
     "text": [
      "[1, 1, 3, 4, 5, 44, 66, 90, 11278]\n"
     ]
    }
   ],
   "source": [
    "f=[1,3,4,5,11278,44,66,90,1]\n",
    "for i in range(len(f)):\n",
    "    for j in range(len(f)):\n",
    "        if f[i]<f[j]:\n",
    "            f[i],f[j]=f[j],f[i]\n",
    "print(f)"
   ]
  },
  {
   "cell_type": "code",
   "execution_count": 5,
   "id": "7bb79f5d-3a3e-4330-b010-423c094fa661",
   "metadata": {},
   "outputs": [
    {
     "name": "stdout",
     "output_type": "stream",
     "text": [
      "[11278, 90, 66, 44, 5, 4, 3, 1, 1]\n"
     ]
    }
   ],
   "source": [
    "f=[1,3,4,5,11278,44,66,90,1]\n",
    "for i in range(len(f)):\n",
    "    for j in range(len(f)):\n",
    "        if f[i]>f[j]:\n",
    "            f[i],f[j]=f[j],f[i]\n",
    "print(f)"
   ]
  },
  {
   "cell_type": "markdown",
   "id": "e54d8d18-9bee-42e6-bcac-e406ce4605f3",
   "metadata": {},
   "source": [
    "Functions\n",
    "Arguments"
   ]
  },
  {
   "cell_type": "code",
   "execution_count": 8,
   "id": "425b1061-77df-4744-8241-79b21e28cdc1",
   "metadata": {},
   "outputs": [
    {
     "name": "stdout",
     "output_type": "stream",
     "text": [
      "11\n"
     ]
    }
   ],
   "source": [
    "def add(a,b):\n",
    "    c=a+b\n",
    "    print(c)\n",
    "add(5,6)"
   ]
  },
  {
   "cell_type": "code",
   "execution_count": 10,
   "id": "d3ef78f9-f1bf-4e2a-8915-0e84ac5cb0a3",
   "metadata": {},
   "outputs": [
    {
     "name": "stdout",
     "output_type": "stream",
     "text": [
      "35\n"
     ]
    }
   ],
   "source": [
    "def add(a,b):\n",
    "    c=a+b\n",
    "    print(c)\n",
    "add(10,25)"
   ]
  },
  {
   "cell_type": "code",
   "execution_count": 17,
   "id": "6044db44-cef4-41f8-8743-8d06713d1948",
   "metadata": {},
   "outputs": [
    {
     "name": "stdout",
     "output_type": "stream",
     "text": [
      "11 -1\n"
     ]
    }
   ],
   "source": [
    "def add(a,b):\n",
    "    c=a+b\n",
    "    return c\n",
    "k=add(5,6)\n",
    "\n",
    "def sub(a,b):\n",
    "    c=a-b\n",
    "    return c\n",
    "k1=sub(5,6)\n",
    "\n",
    "print(k,k1)"
   ]
  },
  {
   "cell_type": "code",
   "execution_count": 32,
   "id": "3d60b56e-3283-4865-a794-dd773184725a",
   "metadata": {
    "scrolled": true
   },
   "outputs": [
    {
     "name": "stdout",
     "output_type": "stream",
     "text": [
      "11\n"
     ]
    }
   ],
   "source": [
    "def add(a,b):\n",
    "    global c\n",
    "    c=a+b\n",
    "    print(c)\n",
    "add(5,6)"
   ]
  },
  {
   "cell_type": "code",
   "execution_count": 30,
   "id": "28be2b51-d48d-4ef8-9410-a889e7d04236",
   "metadata": {},
   "outputs": [
    {
     "name": "stdout",
     "output_type": "stream",
     "text": [
      "16\n",
      "1424\n"
     ]
    }
   ],
   "source": [
    "def add(num1,num2):\n",
    "    k=num2+num1\n",
    "    return k\n",
    "l=add(num2=10,num1=6)\n",
    "print(l)\n",
    "\n",
    "b=89\n",
    "ans=b*l\n",
    "print(ans)"
   ]
  },
  {
   "cell_type": "code",
   "execution_count": null,
   "id": "c4799796-a998-4e41-b9c0-422ec97d05a4",
   "metadata": {},
   "outputs": [],
   "source": []
  }
 ],
 "metadata": {
  "kernelspec": {
   "display_name": "Python [conda env:base] *",
   "language": "python",
   "name": "conda-base-py"
  },
  "language_info": {
   "codemirror_mode": {
    "name": "ipython",
    "version": 3
   },
   "file_extension": ".py",
   "mimetype": "text/x-python",
   "name": "python",
   "nbconvert_exporter": "python",
   "pygments_lexer": "ipython3",
   "version": "3.12.7"
  }
 },
 "nbformat": 4,
 "nbformat_minor": 5
}
