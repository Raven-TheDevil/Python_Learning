{
 "cells": [
  {
   "cell_type": "markdown",
   "id": "52a2a6f0-7514-4f12-9479-933e6334f190",
   "metadata": {},
   "source": [
    "Python Classes and Objects\n",
    "oops concept\n",
    "object oriented programme"
   ]
  },
  {
   "cell_type": "code",
   "execution_count": 3,
   "id": "e7c5211f-93e7-44ab-a94c-c2f8e6956481",
   "metadata": {},
   "outputs": [
    {
     "name": "stdout",
     "output_type": "stream",
     "text": [
      "12\n"
     ]
    }
   ],
   "source": [
    "class classname:\n",
    "    x=5\n",
    "    y=x+7\n",
    "obj=classname()\n",
    "print(obj.y)"
   ]
  },
  {
   "cell_type": "code",
   "execution_count": 5,
   "id": "1e762eef-54e6-4cb5-bd12-ea1f4b8495f6",
   "metadata": {},
   "outputs": [
    {
     "name": "stdout",
     "output_type": "stream",
     "text": [
      "94\n"
     ]
    }
   ],
   "source": [
    "class myobject:\n",
    "    x=5\n",
    "    y=89\n",
    "    z=x+y\n",
    "my=myobject()\n",
    "print(my.z)"
   ]
  },
  {
   "cell_type": "code",
   "execution_count": 7,
   "id": "40fdeeb6-26b1-49ef-b3cf-0a632fe92e4d",
   "metadata": {},
   "outputs": [
    {
     "name": "stdout",
     "output_type": "stream",
     "text": [
      "445\n"
     ]
    }
   ],
   "source": [
    "class myobject:\n",
    "    x=5\n",
    "    y=89\n",
    "    z=x*y\n",
    "object1=myobject()\n",
    "print(object1.z)"
   ]
  },
  {
   "cell_type": "code",
   "execution_count": 11,
   "id": "7a3c7a48-9b8c-4f18-9a10-6d395a1009a4",
   "metadata": {},
   "outputs": [
    {
     "name": "stdout",
     "output_type": "stream",
     "text": [
      "63\n"
     ]
    }
   ],
   "source": [
    "class weekend:\n",
    "    x=8\n",
    "    y=55\n",
    "    z=x+y\n",
    "weekend1=weekend()\n",
    "print(weekend1.z)"
   ]
  },
  {
   "cell_type": "code",
   "execution_count": 14,
   "id": "1bfaeb2b-a6d0-420c-a617-d86a9a8987f4",
   "metadata": {},
   "outputs": [
    {
     "name": "stdout",
     "output_type": "stream",
     "text": [
      "9\n",
      "3\n"
     ]
    }
   ],
   "source": [
    "class function:\n",
    "    def add(self):\n",
    "        a=4\n",
    "        b=5\n",
    "        print(a+b)\n",
    "    def sub(self):\n",
    "        a=10\n",
    "        b=7\n",
    "        print(a-b)\n",
    "cal=function()\n",
    "cal.add()\n",
    "cal.sub()"
   ]
  },
  {
   "cell_type": "code",
   "execution_count": 29,
   "id": "2d9e9764-efdb-4f06-bd9a-717b8816c108",
   "metadata": {},
   "outputs": [
    {
     "name": "stdout",
     "output_type": "stream",
     "text": [
      "30\n",
      "15\n"
     ]
    }
   ],
   "source": [
    "class func:\n",
    "    def add(self):\n",
    "        a=10\n",
    "        b=20\n",
    "        c=a+b\n",
    "        return c\n",
    "    def sub(self):\n",
    "        a=20\n",
    "        b=5\n",
    "        c=a-b\n",
    "        return c\n",
    "cal=func()\n",
    "k=cal.add()\n",
    "k1=cal.sub()\n",
    "print(k)\n",
    "print(k1)"
   ]
  },
  {
   "cell_type": "code",
   "execution_count": 34,
   "id": "7f1a07cc-3585-440c-8aac-b3cb525f79bd",
   "metadata": {},
   "outputs": [
    {
     "name": "stdin",
     "output_type": "stream",
     "text": [
      "enter the value 45\n",
      "enter the value 80\n"
     ]
    },
    {
     "name": "stdout",
     "output_type": "stream",
     "text": [
      "125\n"
     ]
    }
   ],
   "source": [
    "class fun:\n",
    "    def add(self):\n",
    "        x=int(input(\"enter the value\"))\n",
    "        y=int(input(\"enter the value\"))\n",
    "        c=x+y\n",
    "        return c\n",
    "ca=fun()\n",
    "k=ca.add()\n",
    "print(k)"
   ]
  },
  {
   "cell_type": "markdown",
   "id": "6672ebbb-fe2c-4864-927f-35c888d04d7b",
   "metadata": {},
   "source": [
    "init() function\n",
    "value should be initate "
   ]
  },
  {
   "cell_type": "code",
   "execution_count": null,
   "id": "1098c7aa-b139-426e-8c19-6ce27bf4e11c",
   "metadata": {},
   "outputs": [],
   "source": []
  }
 ],
 "metadata": {
  "kernelspec": {
   "display_name": "Python [conda env:base] *",
   "language": "python",
   "name": "conda-base-py"
  },
  "language_info": {
   "codemirror_mode": {
    "name": "ipython",
    "version": 3
   },
   "file_extension": ".py",
   "mimetype": "text/x-python",
   "name": "python",
   "nbconvert_exporter": "python",
   "pygments_lexer": "ipython3",
   "version": "3.12.7"
  }
 },
 "nbformat": 4,
 "nbformat_minor": 5
}
