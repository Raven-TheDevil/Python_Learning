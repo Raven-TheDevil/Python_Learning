{
 "cells": [
  {
   "cell_type": "code",
   "execution_count": 2,
   "id": "60189535",
   "metadata": {},
   "outputs": [
    {
     "name": "stdout",
     "output_type": "stream",
     "text": [
      "Name: John\n",
      "Age: 30\n"
     ]
    }
   ],
   "source": [
    "class Person:\n",
    "    def __init__(self, name, age, salary):\n",
    "        self.name = name\n",
    "        self._age = age\n",
    "        self.__salary = salary\n",
    "\n",
    "    def show_name(self):\n",
    "        print(\"Name:\", self.name)\n",
    "\n",
    "    def _show_age(self):\n",
    "        print(\"Age:\", self._age)\n",
    "\n",
    "    def __show_salary(self):\n",
    "        print(\"Salary:\", self.__salary)\n",
    "\n",
    "p = Person(\"John\", 30, 50000)\n",
    "\n",
    "p.show_name()\n",
    "\n",
    "p._show_age()"
   ]
  },
  {
   "cell_type": "code",
   "execution_count": 3,
   "id": "0af32d58",
   "metadata": {},
   "outputs": [
    {
     "name": "stdout",
     "output_type": "stream",
     "text": [
      "Name: John\n",
      "Age: 30\n",
      "Salary: 50000\n"
     ]
    }
   ],
   "source": [
    "class Person:\n",
    "    def __init__(self, name, age, salary):\n",
    "        self.name = name\n",
    "        self._age = age\n",
    "        self.__salary = salary\n",
    "\n",
    "    def show_name(self):\n",
    "        print(\"Name:\", self.name)\n",
    "\n",
    "    def _show_age(self):\n",
    "        print(\"Age:\", self._age)\n",
    "\n",
    "    def __show_salary(self):\n",
    "        print(\"Salary:\", self.__salary)\n",
    "\n",
    "    def access_print(self):\n",
    "        self.__show_salary()\n",
    "\n",
    "p = Person(\"John\", 30, 50000)\n",
    "\n",
    "p.show_name()\n",
    "\n",
    "p._show_age()\n",
    "\n",
    "p.access_print()"
   ]
  }
 ],
 "metadata": {
  "kernelspec": {
   "display_name": "base",
   "language": "python",
   "name": "python3"
  },
  "language_info": {
   "codemirror_mode": {
    "name": "ipython",
    "version": 3
   },
   "file_extension": ".py",
   "mimetype": "text/x-python",
   "name": "python",
   "nbconvert_exporter": "python",
   "pygments_lexer": "ipython3",
   "version": "3.12.7"
  }
 },
 "nbformat": 4,
 "nbformat_minor": 5
}
